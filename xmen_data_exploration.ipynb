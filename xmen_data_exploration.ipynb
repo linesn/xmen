{
  "nbformat": 4,
  "nbformat_minor": 0,
  "metadata": {
    "colab": {
      "name": "xmen_data_exploration.ipynb",
      "provenance": [],
      "authorship_tag": "ABX9TyP0YbXl/XFav1w36ROCEwwI",
      "include_colab_link": true
    },
    "kernelspec": {
      "name": "python3",
      "display_name": "Python 3"
    },
    "language_info": {
      "name": "python"
    }
  },
  "cells": [
    {
      "cell_type": "markdown",
      "metadata": {
        "id": "view-in-github",
        "colab_type": "text"
      },
      "source": [
        "<a href=\"https://colab.research.google.com/github/linesn/xmen/blob/main/xmen_data_exploration.ipynb\" target=\"_parent\"><img src=\"https://colab.research.google.com/assets/colab-badge.svg\" alt=\"Open In Colab\"/></a>"
      ]
    },
    {
      "cell_type": "markdown",
      "metadata": {
        "id": "phaAxclZ83Q4"
      },
      "source": [
        "# Exploration of the X-Men dataset\n",
        "\n",
        "## Imports, environment set up"
      ]
    },
    {
      "cell_type": "code",
      "metadata": {
        "colab": {
          "base_uri": "https://localhost:8080/"
        },
        "id": "mR3sVJ_y8lZj",
        "outputId": "98a71f93-0e21-4668-a4b1-d6de1ed363c9"
      },
      "source": [
        "%pylab inline\n",
        "import pandas as pd"
      ],
      "execution_count": 1,
      "outputs": [
        {
          "output_type": "stream",
          "name": "stdout",
          "text": [
            "Populating the interactive namespace from numpy and matplotlib\n"
          ]
        }
      ]
    },
    {
      "cell_type": "code",
      "metadata": {
        "colab": {
          "base_uri": "https://localhost:8080/"
        },
        "id": "JqNSYze68Om4",
        "outputId": "2fd74255-422c-4869-da9a-38f07d864f2d"
      },
      "source": [
        "import os\n",
        "if 'COLAB_GPU' in os.environ: # a hacky way of determining if you are in colab.\n",
        "  print(\"Notebook is running in colab\")\n",
        "  from google.colab import drive\n",
        "  drive.mount(\"/content/drive\")\n",
        "  DATA_DIR = \"./drive/MyDrive/Data/\"\n",
        "  \n",
        "else:\n",
        "  # Get the system information from the OS\n",
        "  PLATFORM_SYSTEM = platform.system()\n",
        "\n",
        "  # Darwin is macOS\n",
        "  if PLATFORM_SYSTEM == \"Darwin\":\n",
        "      EXECUTABLE_PATH = Path(\"../dependencies/chromedriver\")\n",
        "  elif PLATFORM_SYSTEM == \"Windows\":\n",
        "      EXECUTABLE_PATH = Path(\"../dependencies/chromedriver.exe\")\n",
        "  else:\n",
        "      logging.critical(\"Chromedriver not found or Chromedriver is outdated...\")\n",
        "      exit()\n",
        "  DATA_DIR = \"../Data/raw/\""
      ],
      "execution_count": 8,
      "outputs": [
        {
          "output_type": "stream",
          "name": "stdout",
          "text": [
            "Notebook is running in colab\n",
            "Drive already mounted at /content/drive; to attempt to forcibly remount, call drive.mount(\"/content/drive\", force_remount=True).\n"
          ]
        }
      ]
    },
    {
      "cell_type": "code",
      "metadata": {
        "id": "yqz86nn88sCl"
      },
      "source": [
        "character_viz = pd.read_csv(DATA_DIR+\"/xmen/character_visualization.csv\")\n",
        "character = pd.read_csv(DATA_DIR+\"/xmen/characters.csv\")\n",
        "comic_bechdel = pd.read_csv(DATA_DIR+\"/xmen/comic_bechdel.csv\")\n",
        "covers = pd.read_csv(DATA_DIR+\"/xmen/covers.csv\")\n",
        "collaborators = pd.read_csv(DATA_DIR+\"/xmen/issue_collaborators.csv\")\n",
        "character = pd.read_csv(DATA_DIR+\"/xmen/characters.csv\")\n",
        "locations = pd.read_csv(DATA_DIR+\"/xmen/locations.csv\")\n",
        "xmen_bechdel = pd.read_csv(DATA_DIR+\"/xmen/xmen_bechdel.csv\")"
      ],
      "execution_count": 15,
      "outputs": []
    },
    {
      "cell_type": "code",
      "metadata": {
        "colab": {
          "base_uri": "https://localhost:8080/"
        },
        "id": "OGG32A7u9xY3",
        "outputId": "2fd45459-b126-4b1f-8014-fe4c46938f92"
      },
      "source": [
        "comic_bechdel[comic_bechdel[\"pass_bechdel\"] ==\"yes\"].writer.value_counts()"
      ],
      "execution_count": 25,
      "outputs": [
        {
          "output_type": "execute_result",
          "data": {
            "text/plain": [
              "John Byrne         57\n",
              "Steve Englehart    13\n",
              "Doug Moench        12\n",
              "John Byrne*         1\n",
              "Name: writer, dtype: int64"
            ]
          },
          "metadata": {},
          "execution_count": 25
        }
      ]
    },
    {
      "cell_type": "code",
      "metadata": {
        "colab": {
          "base_uri": "https://localhost:8080/"
        },
        "id": "9qlAF4AHBWjU",
        "outputId": "8513e01a-5baf-4d85-f3d6-9498ccc60fd0"
      },
      "source": [
        "character_viz[character_viz.depicted!=0].character.value_counts()"
      ],
      "execution_count": 33,
      "outputs": [
        {
          "output_type": "execute_result",
          "data": {
            "text/plain": [
              "Storm = Ororo Munroe                          232\n",
              "Colossus = Peter (Piotr) Rasputin             201\n",
              "Wolverine = Logan                             201\n",
              "Nightcrawler = Kurt Wagner                    141\n",
              "Cyclops = Scott Summers                       126\n",
              "Rogue = Name Unknown                           92\n",
              "Ariel/Sprite/Shadowcat = Kitty Pryde           88\n",
              "Professor X = Charles Xavier (no costume)*     87\n",
              "Marvel Girl/Phoenix = Jean Grey                77\n",
              "Banshee = Sean Cassidy                         76\n",
              "Havok = Alex Summers                           72\n",
              "Psylocke = Elizabeth (Betsy) Braddock          67\n",
              "Dazzler = Alison Blaire                        55\n",
              "Moira MacTaggert (scientist helper)*           46\n",
              "Magneto = Erik Magnus*                         39\n",
              "Forge = Name Unknown*                          34\n",
              "Phoenix(2) = Rachel Summers                    33\n",
              "Longshot = (unknown real name)                 33\n",
              "Mystique = Name Unknown*                       30\n",
              "Angel = Warren Worthington                     29\n",
              "Binary/Ms Marvel = Carol Danvers*              27\n",
              "Jubilee = Jubilation Lee                       22\n",
              "Gambit = Name Unknown                          12\n",
              "Name: character, dtype: int64"
            ]
          },
          "metadata": {},
          "execution_count": 33
        }
      ]
    },
    {
      "cell_type": "code",
      "metadata": {
        "id": "N9hn7cJJHZAR"
      },
      "source": [
        ""
      ],
      "execution_count": null,
      "outputs": []
    }
  ]
}